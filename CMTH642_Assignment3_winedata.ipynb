{
  "cells": [
    {
      "cell_type": "markdown",
      "metadata": {
        "id": "s2h0BVIqmIpE"
      },
      "source": [
        "### Dataset info: \n",
        "\n",
        "The dataset is related to Portuguese \"Vinho Verde\" wines. For more info:\n",
        "https://archive.ics.uci.edu/ml/datasets/Wine+Quality\n",
        "\n",
        "File sources:\n",
        "http://archive.ics.uci.edu/ml/machine-learning-databases/wine-quality/winequality-white.csv    \n",
        "http://archive.ics.uci.edu/ml/machine-learning-databases/wine-quality/winequality-red.csv\n"
      ]
    },
    {
      "cell_type": "markdown",
      "metadata": {
        "id": "xm7GwIpdH12O"
      },
      "source": [
        "Import packages and modules. Get dataset source and merge the two separate dataset."
      ]
    },
    {
      "cell_type": "code",
      "execution_count": 1,
      "metadata": {},
      "outputs": [],
      "source": [
        "import pandas as pd\n",
        "import matplotlib.pyplot as plt\n",
        "import numpy as np"
      ]
    },
    {
      "cell_type": "code",
      "execution_count": 2,
      "metadata": {
        "id": "FmAnHsBkNfoa"
      },
      "outputs": [
        {
          "name": "stdout",
          "output_type": "stream",
          "text": [
            "   fixed acidity  volatile acidity  citric acid  residual sugar  chlorides   \n",
            "0            7.0              0.27         0.36            20.7      0.045  \\\n",
            "1            6.3              0.30         0.34             1.6      0.049   \n",
            "2            8.1              0.28         0.40             6.9      0.050   \n",
            "3            7.2              0.23         0.32             8.5      0.058   \n",
            "4            7.2              0.23         0.32             8.5      0.058   \n",
            "\n",
            "   free sulfur dioxide  total sulfur dioxide  density    pH  sulphates   \n",
            "0                 45.0                 170.0   1.0010  3.00       0.45  \\\n",
            "1                 14.0                 132.0   0.9940  3.30       0.49   \n",
            "2                 30.0                  97.0   0.9951  3.26       0.44   \n",
            "3                 47.0                 186.0   0.9956  3.19       0.40   \n",
            "4                 47.0                 186.0   0.9956  3.19       0.40   \n",
            "\n",
            "   alcohol  quality wine_type  \n",
            "0      8.8        6     white  \n",
            "1      9.5        6     white  \n",
            "2     10.1        6     white  \n",
            "3      9.9        6     white  \n",
            "4      9.9        6     white         fixed acidity  volatile acidity  citric acid  residual sugar  chlorides   \n",
            "6492            6.2             0.600         0.08             2.0      0.090  \\\n",
            "6493            5.9             0.550         0.10             2.2      0.062   \n",
            "6494            6.3             0.510         0.13             2.3      0.076   \n",
            "6495            5.9             0.645         0.12             2.0      0.075   \n",
            "6496            6.0             0.310         0.47             3.6      0.067   \n",
            "\n",
            "      free sulfur dioxide  total sulfur dioxide  density    pH  sulphates   \n",
            "6492                 32.0                  44.0  0.99490  3.45       0.58  \\\n",
            "6493                 39.0                  51.0  0.99512  3.52       0.76   \n",
            "6494                 29.0                  40.0  0.99574  3.42       0.75   \n",
            "6495                 32.0                  44.0  0.99547  3.57       0.71   \n",
            "6496                 18.0                  42.0  0.99549  3.39       0.66   \n",
            "\n",
            "      alcohol  quality wine_type  \n",
            "6492     10.5        5       red  \n",
            "6493     11.2        6       red  \n",
            "6494     11.0        6       red  \n",
            "6495     10.2        5       red  \n",
            "6496     11.0        6       red  \n"
          ]
        }
      ],
      "source": [
        "white_url = 'http://archive.ics.uci.edu/ml/machine-learning-databases/wine-quality/winequality-white.csv'    \n",
        "red_url = 'http://archive.ics.uci.edu/ml/machine-learning-databases/wine-quality/winequality-red.csv'\n",
        "\n",
        "white_wine = pd.read_csv(white_url, sep=';')\n",
        "red_wine = pd.read_csv(red_url, sep=';')\n",
        "\n",
        "white_wine['wine_type'] = 'white'\n",
        "red_wine['wine_type'] = 'red'\n",
        "\n",
        "wine_data_all = pd.concat([white_wine, red_wine], ignore_index=True)\n",
        "wine_data_all.to_csv('wine_data_all.csv', index=False)\n",
        "\n",
        "print(wine_data_all.head(), wine_data_all.tail()) "
      ]
    },
    {
      "cell_type": "markdown",
      "metadata": {
        "id": "_s6g0tee67kr"
      },
      "source": [
        "Checking for attributes data type"
      ]
    },
    {
      "cell_type": "code",
      "execution_count": 3,
      "metadata": {
        "id": "PtwZ55_KNq5l"
      },
      "outputs": [
        {
          "name": "stdout",
          "output_type": "stream",
          "text": [
            "fixed acidity           float64\n",
            "volatile acidity        float64\n",
            "citric acid             float64\n",
            "residual sugar          float64\n",
            "chlorides               float64\n",
            "free sulfur dioxide     float64\n",
            "total sulfur dioxide    float64\n",
            "density                 float64\n",
            "pH                      float64\n",
            "sulphates               float64\n",
            "alcohol                 float64\n",
            "quality                   int64\n",
            "wine_type                object\n",
            "dtype: object\n"
          ]
        }
      ],
      "source": [
        "data_types = wine_data_all.dtypes\n",
        "print(data_types)"
      ]
    },
    {
      "cell_type": "markdown",
      "metadata": {
        "id": "xAvoOQnu67kv"
      },
      "source": [
        "Searching for missing values and printing the total if there are any."
      ]
    },
    {
      "cell_type": "code",
      "execution_count": 4,
      "metadata": {
        "id": "H_x5heGtNup3"
      },
      "outputs": [
        {
          "name": "stdout",
          "output_type": "stream",
          "text": [
            "Total number of missing data in each column:\n",
            "fixed acidity           0\n",
            "volatile acidity        0\n",
            "citric acid             0\n",
            "residual sugar          0\n",
            "chlorides               0\n",
            "free sulfur dioxide     0\n",
            "total sulfur dioxide    0\n",
            "density                 0\n",
            "pH                      0\n",
            "sulphates               0\n",
            "alcohol                 0\n",
            "quality                 0\n",
            "wine_type               0\n",
            "dtype: int64\n",
            "Total number of missing data in the entire DataFrame: 0\n"
          ]
        }
      ],
      "source": [
        "missing_data_column = wine_data_all.isnull().sum()\n",
        "\n",
        "total_missing_data = wine_data_all.isnull().sum().sum()\n",
        "\n",
        "print(\"Total number of missing data in each column:\")\n",
        "print(missing_data_column)\n",
        "\n",
        "print(\"Total number of missing data in the entire DataFrame:\", total_missing_data)"
      ]
    },
    {
      "cell_type": "markdown",
      "metadata": {
        "id": "TnITuRoZ67kw"
      },
      "source": [
        "Finding the correlation between the attributes. Quality column was dropped prior to the correlation calculation as it is a categorical variable and will be used as the target variable in the modeling process."
      ]
    },
    {
      "cell_type": "code",
      "execution_count": 5,
      "metadata": {
        "id": "OBNJFgKrNt8t"
      },
      "outputs": [
        {
          "name": "stdout",
          "output_type": "stream",
          "text": [
            "Correlation matrix (excluding 'quality' column):\n",
            "                      fixed acidity  volatile acidity  citric acid   \n",
            "fixed acidity              1.000000          0.219008     0.324436  \\\n",
            "volatile acidity           0.219008          1.000000    -0.377981   \n",
            "citric acid                0.324436         -0.377981     1.000000   \n",
            "residual sugar            -0.111981         -0.196011     0.142451   \n",
            "chlorides                  0.298195          0.377124     0.038998   \n",
            "free sulfur dioxide       -0.282735         -0.352557     0.133126   \n",
            "total sulfur dioxide      -0.329054         -0.414476     0.195242   \n",
            "density                    0.458910          0.271296     0.096154   \n",
            "pH                        -0.252700          0.261454    -0.329808   \n",
            "sulphates                  0.299568          0.225984     0.056197   \n",
            "alcohol                   -0.095452         -0.037640    -0.010493   \n",
            "\n",
            "                      residual sugar  chlorides  free sulfur dioxide   \n",
            "fixed acidity              -0.111981   0.298195            -0.282735  \\\n",
            "volatile acidity           -0.196011   0.377124            -0.352557   \n",
            "citric acid                 0.142451   0.038998             0.133126   \n",
            "residual sugar              1.000000  -0.128940             0.402871   \n",
            "chlorides                  -0.128940   1.000000            -0.195045   \n",
            "free sulfur dioxide         0.402871  -0.195045             1.000000   \n",
            "total sulfur dioxide        0.495482  -0.279630             0.720934   \n",
            "density                     0.552517   0.362615             0.025717   \n",
            "pH                         -0.267320   0.044708            -0.145854   \n",
            "sulphates                  -0.185927   0.395593            -0.188457   \n",
            "alcohol                    -0.359415  -0.256916            -0.179838   \n",
            "\n",
            "                      total sulfur dioxide   density        pH  sulphates   \n",
            "fixed acidity                    -0.329054  0.458910 -0.252700   0.299568  \\\n",
            "volatile acidity                 -0.414476  0.271296  0.261454   0.225984   \n",
            "citric acid                       0.195242  0.096154 -0.329808   0.056197   \n",
            "residual sugar                    0.495482  0.552517 -0.267320  -0.185927   \n",
            "chlorides                        -0.279630  0.362615  0.044708   0.395593   \n",
            "free sulfur dioxide               0.720934  0.025717 -0.145854  -0.188457   \n",
            "total sulfur dioxide              1.000000  0.032395 -0.238413  -0.275727   \n",
            "density                           0.032395  1.000000  0.011686   0.259478   \n",
            "pH                               -0.238413  0.011686  1.000000   0.192123   \n",
            "sulphates                        -0.275727  0.259478  0.192123   1.000000   \n",
            "alcohol                          -0.265740 -0.686745  0.121248  -0.003029   \n",
            "\n",
            "                       alcohol  \n",
            "fixed acidity        -0.095452  \n",
            "volatile acidity     -0.037640  \n",
            "citric acid          -0.010493  \n",
            "residual sugar       -0.359415  \n",
            "chlorides            -0.256916  \n",
            "free sulfur dioxide  -0.179838  \n",
            "total sulfur dioxide -0.265740  \n",
            "density              -0.686745  \n",
            "pH                    0.121248  \n",
            "sulphates            -0.003029  \n",
            "alcohol               1.000000  \n"
          ]
        }
      ],
      "source": [
        "quality_col = 'quality'\n",
        "\n",
        "new_df = wine_data_all.drop(columns=quality_col) \n",
        "non_numeric_cols = new_df.select_dtypes(include=['object']).columns\n",
        "new_df = new_df.drop(columns=non_numeric_cols)\n",
        "\n",
        "corr_matrix = new_df.corr()\n",
        "\n",
        "print(\"Correlation matrix (excluding '{}' column):\".format(quality_col))\n",
        "print(corr_matrix)"
      ]
    },
    {
      "cell_type": "markdown",
      "metadata": {
        "id": "DVh2ZDUr67ky"
      },
      "source": [
        "Plotting the frequency distribution of wine quality using the Quality attribute. "
      ]
    },
    {
      "cell_type": "code",
      "execution_count": 6,
      "metadata": {
        "id": "cTS30S-ONzCA"
      },
      "outputs": [
        {
          "data": {
            "image/png": "[encoded data removed]",
            "text/plain": [
              "<Figure size 640x480 with 1 Axes>"
            ]
          },
          "metadata": {},
          "output_type": "display_data"
        }
      ],
      "source": [
        "plt.hist(wine_data_all['quality'], bins=range(3, 10), align='left', rwidth=0.8)\n",
        "plt.xlabel('Quality')\n",
        "plt.ylabel('Frequency')\n",
        "plt.title('Frequency Distribution of Quality Attribute')\n",
        "plt.xticks(range(3, 10))\n",
        "plt.show()"
      ]
    },
    {
      "cell_type": "markdown",
      "metadata": {
        "id": "-rwkqF6f67k0"
      },
      "source": [
        "Reducing the levels of rating for quality to two levels, Pass and Fail. Levels 3, 4, and 5 are ssigned to level Fail; and 6, 7, 8, and 9 to level Pass."
      ]
    },
    {
      "cell_type": "code",
      "execution_count": 7,
      "metadata": {
        "id": "X-RWR6X8NyK8"
      },
      "outputs": [
        {
          "name": "stdout",
          "output_type": "stream",
          "text": [
            "0       Pass\n",
            "1       Pass\n",
            "2       Pass\n",
            "3       Pass\n",
            "4       Pass\n",
            "        ... \n",
            "6492    Fail\n",
            "6493    Pass\n",
            "6494    Pass\n",
            "6495    Fail\n",
            "6496    Pass\n",
            "Name: quality, Length: 6497, dtype: object\n"
          ]
        }
      ],
      "source": [
        "def map_quality(quality):\n",
        "    if quality in [3, 4, 5]:\n",
        "        return 'Fail'\n",
        "    elif quality in [6, 7, 8, 9]:\n",
        "        return 'Pass'\n",
        "    else:\n",
        "        return 'Invalid'\n",
        "\n",
        "wine_data_all['quality'] = wine_data_all['quality'].apply(map_quality).dropna()\n",
        "\n",
        "print(wine_data_all['quality']) "
      ]
    },
    {
      "cell_type": "markdown",
      "metadata": {
        "id": "Uw_zd-JM67k1"
      },
      "source": [
        "Normalizing the numeric attributes. Categorical attributes 'quality' and 'wine_type' were separated and dropped from the dataset first to avoid getting error during the normalization. Both will be later on added/copied back to the dataset after the normalization process."
      ]
    },
    {
      "cell_type": "code",
      "execution_count": 8,
      "metadata": {
        "id": "hw2B1opoN6eI"
      },
      "outputs": [
        {
          "name": "stdout",
          "output_type": "stream",
          "text": [
            "   fixed acidity  volatile acidity  citric acid  residual sugar  chlorides   \n",
            "0       0.264463          0.126667     0.216867        0.308282   0.059801  \\\n",
            "1       0.206612          0.146667     0.204819        0.015337   0.066445   \n",
            "2       0.355372          0.133333     0.240964        0.096626   0.068106   \n",
            "3       0.280992          0.100000     0.192771        0.121166   0.081395   \n",
            "4       0.280992          0.100000     0.192771        0.121166   0.081395   \n",
            "\n",
            "   free sulfur dioxide  total sulfur dioxide   density        pH  sulphates   \n",
            "0             0.152778              0.377880  0.267785  0.217054   0.129213  \\\n",
            "1             0.045139              0.290323  0.132832  0.449612   0.151685   \n",
            "2             0.100694              0.209677  0.154039  0.418605   0.123596   \n",
            "3             0.159722              0.414747  0.163678  0.364341   0.101124   \n",
            "4             0.159722              0.414747  0.163678  0.364341   0.101124   \n",
            "\n",
            "    alcohol quality wine_type  \n",
            "0  0.115942    Pass     white  \n",
            "1  0.217391    Pass     white  \n",
            "2  0.304348    Pass     white  \n",
            "3  0.275362    Pass     white  \n",
            "4  0.275362    Pass     white  \n"
          ]
        }
      ],
      "source": [
        "num_attr = ['fixed acidity', 'volatile acidity', 'citric acid', 'residual sugar', 'chlorides', 'free sulfur dioxide', 'total sulfur dioxide', 'density', 'pH', 'sulphates', 'alcohol']\n",
        "\n",
        "#separating quality and wine_type attribute\n",
        "quality_col = wine_data_all['quality']\n",
        "wine_type_col = wine_data_all['wine_type']\n",
        "\n",
        "#dropping the quality and wine_type attribute from the dataset\n",
        "wine_data_all.drop(columns=['quality', 'wine_type'], inplace=True)\n",
        "\n",
        "#normalizing the rest of the numerical attribute\n",
        "min_val = wine_data_all[num_attr].min()\n",
        "max_val = wine_data_all[num_attr].max()\n",
        "\n",
        "normalized_attr = (wine_data_all[num_attr] - min_val) / (max_val - min_val)\n",
        "\n",
        "wine_data_all[num_attr] = normalized_attr\n",
        "\n",
        "#adding back quality and wine_type attribute to the dataset\n",
        "wine_data_all['quality'] = quality_col\n",
        "wine_data_all['wine_type'] = wine_type_col\n",
        "\n",
        "\n",
        "print(wine_data_all.head())\n",
        "\n"
      ]
    },
    {
      "cell_type": "markdown",
      "metadata": {
        "id": "t0MbenQb67k2"
      },
      "source": [
        "Preparing and dividing the dataset to training and test sets."
      ]
    },
    {
      "cell_type": "code",
      "execution_count": 10,
      "metadata": {
        "id": "9CnlI4X7N4nQ"
      },
      "outputs": [
        {
          "name": "stdout",
          "output_type": "stream",
          "text": [
            "Number of NaN values in X_encoded_imputed: 0\n",
            "X_train shape: (1949, 13)\n",
            "X_test shape: (4548, 13)\n",
            "y_train shape: (1949,)\n",
            "y_test shape: (4548,)\n"
          ]
        }
      ],
      "source": [
        "from sklearn.model_selection import train_test_split\n",
        "from sklearn.preprocessing import OneHotEncoder\n",
        "from sklearn.impute import SimpleImputer\n",
        "\n",
        "\n",
        "wine_data_copy = wine_data_all.copy()\n",
        "\n",
        "X = wine_data_copy.drop(columns=['quality'])\n",
        "y = wine_data_copy['quality']\n",
        "\n",
        "\n",
        "X_encoded = pd.get_dummies(X, columns=['wine_type'])\n",
        "\n",
        "imputer = SimpleImputer(strategy='mean')\n",
        "X_encoded_imputed = imputer.fit_transform(X_encoded)\n",
        "\n",
        "print(\"Number of NaN values in X_encoded_imputed:\", np.isnan(X_encoded_imputed).sum())\n",
        "\n",
        "X_train, X_test, y_train, y_test = train_test_split(X_encoded_imputed, y, test_size=0.7, random_state=1)\n",
        "\n",
        "\n",
        "print(\"X_train shape:\", X_train.shape)\n",
        "print(\"X_test shape:\", X_test.shape)\n",
        "print(\"y_train shape:\", y_train.shape)\n",
        "print(\"y_test shape:\", y_test.shape)"
      ]
    },
    {
      "cell_type": "markdown",
      "metadata": {
        "id": "Z0-NvzsYno7l"
      },
      "source": [
        "Using Logistic Regression algorithm to predict the quality of wine using its attributes."
      ]
    },
    {
      "cell_type": "code",
      "execution_count": 11,
      "metadata": {
        "id": "u7Zt02kjN29X"
      },
      "outputs": [],
      "source": [
        "from sklearn.linear_model import LogisticRegression\n",
        "from sklearn.metrics import accuracy_score, classification_report\n",
        "\n",
        "y_train = y_train.map({'Fail': 0, 'Pass': 1})\n",
        "y_test = y_test.map({'Fail': 0, 'Pass': 1})\n",
        "\n",
        "logreg_model = LogisticRegression()\n",
        "\n",
        "logreg_model.fit(X_train, y_train.ravel())\n",
        "\n",
        "y_pred_logreg = logreg_model.predict(X_test)\n",
        "\n"
      ]
    },
    {
      "cell_type": "markdown",
      "metadata": {
        "id": "UtVW9Wqi67k5"
      },
      "source": [
        "Using KNN algorithm to predict the quality of wine using its attributes. "
      ]
    },
    {
      "cell_type": "code",
      "execution_count": 12,
      "metadata": {
        "id": "y_HYHeryN74o"
      },
      "outputs": [],
      "source": [
        "from sklearn.model_selection import train_test_split\n",
        "from sklearn.neighbors import KNeighborsClassifier\n",
        "\n",
        "k = 5  \n",
        "knn_model = KNeighborsClassifier(n_neighbors=k)\n",
        "knn_model.fit(X_train, y_train)\n",
        "\n",
        "y_pred_knn = knn_model.predict(X_test)\n"
      ]
    },
    {
      "cell_type": "markdown",
      "metadata": {
        "id": "5_QQUorI67k8"
      },
      "source": [
        "Displaying confusion matrices to evaluate the performances of Logistic Regression and KNN. "
      ]
    },
    {
      "cell_type": "code",
      "execution_count": 13,
      "metadata": {
        "id": "ouA67eYaN96I"
      },
      "outputs": [
        {
          "name": "stdout",
          "output_type": "stream",
          "text": [
            "Confusion Matrix for Logistic Regression:\n",
            "[[ 826  842]\n",
            " [ 330 2550]]\n",
            "\n",
            "Confusion Matrix for KNN:\n",
            "[[ 925  743]\n",
            " [ 518 2362]]\n"
          ]
        }
      ],
      "source": [
        "from sklearn.metrics import confusion_matrix\n",
        "\n",
        "#Confusion matrix for Logistic Regression\n",
        "confusion_matrix_logreg = confusion_matrix(y_test, y_pred_logreg)\n",
        "print(\"Confusion Matrix for Logistic Regression:\")\n",
        "print(confusion_matrix_logreg)\n",
        "\n",
        "#Confusion matrix for KNN\n",
        "confusion_matrix_knn = confusion_matrix(y_test, y_pred_knn)\n",
        "print(\"\\nConfusion Matrix for KNN:\")\n",
        "print(confusion_matrix_knn)"
      ]
    },
    {
      "cell_type": "markdown",
      "metadata": {
        "id": "O0kvru8vIr5y"
      },
      "source": [
        "Evaluating the models’ performances by computing Accuracy, Precision, and Recall. "
      ]
    },
    {
      "cell_type": "code",
      "execution_count": 14,
      "metadata": {
        "id": "UZXatoOkN_Bd"
      },
      "outputs": [
        {
          "name": "stdout",
          "output_type": "stream",
          "text": [
            "Classification Report for Logistic Regression:\n",
            "              precision    recall  f1-score   support\n",
            "\n",
            "           0       0.71      0.50      0.58      1668\n",
            "           1       0.75      0.89      0.81      2880\n",
            "\n",
            "    accuracy                           0.74      4548\n",
            "   macro avg       0.73      0.69      0.70      4548\n",
            "weighted avg       0.74      0.74      0.73      4548\n",
            "\n",
            "\n",
            "Classification Report for KNN:\n",
            "              precision    recall  f1-score   support\n",
            "\n",
            "           0       0.64      0.55      0.59      1668\n",
            "           1       0.76      0.82      0.79      2880\n",
            "\n",
            "    accuracy                           0.72      4548\n",
            "   macro avg       0.70      0.69      0.69      4548\n",
            "weighted avg       0.72      0.72      0.72      4548\n",
            "\n"
          ]
        }
      ],
      "source": [
        "# Classification report for Logistic Regression\n",
        "classification_report_logreg = classification_report(y_test, y_pred_logreg)\n",
        "print(\"Classification Report for Logistic Regression:\")\n",
        "print(classification_report_logreg)\n",
        "\n",
        "# Classification report for KNN\n",
        "classification_report_knn = classification_report(y_test, y_pred_knn)\n",
        "print(\"\\nClassification Report for KNN:\")\n",
        "print(classification_report_knn)"
      ]
    },
    {
      "cell_type": "markdown",
      "metadata": {},
      "source": [
        "##### For Logistic Regression model for class 0, the Presion is 0.71 and the Recall is 0.50. For class 1, the Precision is 0.58 and the Recall is 0.89. The Accuracy for this model is 0.74 or 74%. This means that about 74% of the test set were correctly predicted.\n",
        "\n",
        "##### For KNN model, for class 0, the Presion is 0.64 and the Recall is 0.55. For class 1, the Precision is 0.76 and the Recall is 0.82. The Accuracy for this model is 0.72 or 72%. This means that about 72% of the test set were correctly predicted.\n",
        "\n",
        "##### Both models'class 1 Precion and Recall are higher, this means that the models are better at correctly predicting and identifying the 'Pass' class. Overall, the Logistic Regression model performed slightly better than KNN model for Precision, Recall, F1 score."
      ]
    },
    {
      "cell_type": "markdown",
      "metadata": {
        "id": "iIvLfsi-bz2Z"
      },
      "source": [
        "This was one of the assignments given in my course CMTH642 in Toronto Metropolitan University. The mechanics, instructions, questions, and sourcing of dataset in this assignment were prepared by Dr. Ceni Babaoglu of the Toronto Metropolitan University - The Chang School. \n",
        "\n",
        "Data Preprocessing and Modeling/Algorithm were generated by myself."
      ]
    }
  ],
  "metadata": {
    "colab": {
      "collapsed_sections": [],
      "provenance": []
    },
    "kernelspec": {
      "display_name": "Python 3",
      "language": "python",
      "name": "python3"
    },
    "language_info": {
      "codemirror_mode": {
        "name": "ipython",
        "version": 3
      },
      "file_extension": ".py",
      "mimetype": "text/x-python",
      "name": "python",
      "nbconvert_exporter": "python",
      "pygments_lexer": "ipython3",
      "version": "3.11.3"
    }
  },
  "nbformat": 4,
  "nbformat_minor": 0
}
